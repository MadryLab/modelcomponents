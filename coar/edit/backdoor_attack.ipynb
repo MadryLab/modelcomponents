{
 "cells": [
  {
   "cell_type": "markdown",
   "id": "5f20744f-fff5-4828-9cf0-ba9d1974b407",
   "metadata": {},
   "source": [
    "## Mitigating a backdoor attack\n",
    "\n",
    "In this notebook, we use Coar attributions in order to improve a model's robustness to backdoor attacks.\n",
    "Specifically, given a CIFAR-10 ResNet model, we apply Coar-Edit to identify components that, when ablated, signficantly mitigates the effect of a backdoor attack on model predictions. This experiment reproduces our findings in Section 5.4 of our paper."
   ]
  },
  {
   "cell_type": "code",
   "execution_count": 7,
   "id": "3ee3daba-29e5-409d-adae-4e48b8f39f16",
   "metadata": {
    "tags": []
   },
   "outputs": [
    {
     "name": "stdout",
     "output_type": "stream",
     "text": [
      "The autoreload extension is already loaded. To reload it, use:\n",
      "  %reload_ext autoreload\n"
     ]
    }
   ],
   "source": [
    "import os \n",
    "import sys \n",
    "sys.path.append('..')\n",
    "\n",
    "import functools \n",
    "import torch\n",
    "import numpy as np\n",
    "import pandas as pd \n",
    "from torch import nn\n",
    "import seaborn as sns\n",
    "import tqdm\n",
    "\n",
    "from src.models import cifar_resnet\n",
    "from src.utils import ndm_utils\n",
    "from src.utils import data_utils\n",
    "from src.utils import eval_utils\n",
    "from src.data import ffcv_pipelines\n",
    "import coar_edit\n",
    "\n",
    "%matplotlib inline\n",
    "%load_ext autoreload\n",
    "%autoreload 2"
   ]
  },
  {
   "cell_type": "markdown",
   "id": "6816e5b8-dff3-439f-9470-9bea9f8da48c",
   "metadata": {},
   "source": [
    "### Download models, attributions, and dataloaders"
   ]
  },
  {
   "cell_type": "code",
   "execution_count": 8,
   "id": "0dfb89b3-d16c-49c5-8b2f-8a88b0accddf",
   "metadata": {
    "tags": []
   },
   "outputs": [
    {
     "name": "stdout",
     "output_type": "stream",
     "text": [
      "Downloading dataloaders (FFCV format)\n",
      "Downloading models\n",
      "Downloading attributions\n"
     ]
    },
    {
     "data": {
      "text/plain": [
       "['waterbirds_model.pt',\n",
       " 'backdoored_cifar_model.pt',\n",
       " 'cifar.beton',\n",
       " 'backdoor_without_attb.pt',\n",
       " 'waterbirds_train_attb.pt',\n",
       " 'waterbirds_train.beton',\n",
       " 'backdoor_with_attb.pt',\n",
       " 'waterbirds_test.beton',\n",
       " 'backdoored_cifar.beton']"
      ]
     },
     "execution_count": 8,
     "metadata": {},
     "output_type": "execute_result"
    }
   ],
   "source": [
    "print ('Downloading dataloaders (FFCV format)')\n",
    "!wget -q -nc 'https://www.dropbox.com/scl/fi/4zj04xkgnb5mpw4aosvrt/cifar10.beton?rlkey=wspv74qs0h7l5cbxmzntmsywe&dl=0' -O out/cifar.beton\n",
    "!wget -q -nc 'https://www.dropbox.com/scl/fi/s82vj7jwn2lsrq3z16jis/backdoored_cifar_test.pt.beton?rlkey=jqqxgpdfjw249ahgyu6us030l&dl=0' -O out/backdoored_cifar.beton\n",
    "\n",
    "print ('Downloading models')\n",
    "!wget -q -nc 'https://www.dropbox.com/scl/fi/58a7isuud54g1nwiawypu/backdoored_cifar.pt?rlkey=whucsf2rr4b6eo7fg5gzxzmla&dl=0' -O out/backdoored_cifar_model.pt\n",
    "\n",
    "print ('Downloading attributions')\n",
    "!wget -q -nc 'https://www.dropbox.com/scl/fi/i8pqcpwgx5t3twry7s6jm/backdoored_cifar_without.pt?rlkey=yggr7qxuqjsljybrwcy1d2nns&dl=0' -O out/backdoor_without_attb.pt\n",
    "!wget -q -nc 'https://www.dropbox.com/scl/fi/t86q0v4hjsjhrpztge7tt/backdoored_cifar_with.pt?rlkey=0maqv1e01jjpy5zm6q5jkbbdx&dl=0' -O out/backdoor_with_attb.pt \n",
    "\n",
    "list(os.listdir('out/'))"
   ]
  },
  {
   "cell_type": "markdown",
   "id": "ac1c8e93-6ec3-451c-a42f-970a45de4a95",
   "metadata": {
    "tags": []
   },
   "source": [
    "### Setup"
   ]
  },
  {
   "cell_type": "code",
   "execution_count": 9,
   "id": "d57438da-d74f-42a1-a8aa-0c8a8731b3b0",
   "metadata": {
    "tags": []
   },
   "outputs": [],
   "source": [
    "DEVICE = torch.device(0) \n",
    "\n",
    "def get_model():\n",
    "    model = torch.load('out/backdoored_cifar_model.pt').cpu().eval()\n",
    "    return model\n",
    "\n",
    "def get_attributions():\n",
    "    attbs = {\n",
    "        'with_backdoor': 'out/backdoor_with_attb.pt',\n",
    "        'without_backdoor': 'out/backdoor_without_attb.pt'\n",
    "    }\n",
    "    \n",
    "    return {k: torch.load(v)['weight'].T.float() for k, v in attbs.items()}\n",
    "\n",
    "def get_loaders(batch_size=256, num_workers=2):\n",
    "    pipeline = ffcv_pipelines.get_pipelines('cifar10', 'test', DEVICE)\n",
    "\n",
    "    loaders = {\n",
    "        'with_backdoor': 'out/backdoored_cifar.beton',\n",
    "        'without_backdoor': 'out/cifar.beton'\n",
    "    }\n",
    "    \n",
    "    return {k: data_utils.get_ffcv_loader(v, batch_size, num_workers, pipeline, is_train=False)\n",
    "            for k, v in loaders.items()}\n",
    "\n",
    "def get_model_components(model):\n",
    "    def is_component(comp_name):\n",
    "        valid = 'conv' in comp_name\n",
    "        return valid\n",
    "\n",
    "    def get_comp_dim(comp):\n",
    "        assert type(comp) is nn.Conv2d\n",
    "        return comp.out_channels\n",
    "\n",
    "    comp_dims = {}\n",
    "    for comp_name, comp in model.named_modules():\n",
    "        if not is_component(comp_name): continue\n",
    "        key = comp_name+'.weight'\n",
    "        comp_dims[key] = get_comp_dim(comp)\n",
    "\n",
    "    return comp_dims"
   ]
  },
  {
   "cell_type": "code",
   "execution_count": 10,
   "id": "999a7d7e-5509-4db1-bc36-a61fd1bed1d3",
   "metadata": {
    "tags": []
   },
   "outputs": [],
   "source": [
    "# get model, data, attributions \n",
    "model = get_model()\n",
    "comps = get_model_components(model)\n",
    "num_components = sum(comps.values())\n",
    "\n",
    "attb_map = get_attributions()\n",
    "loader_map = get_loaders() \n",
    "editor = coar_edit.CoarEdit()"
   ]
  },
  {
   "cell_type": "code",
   "execution_count": 11,
   "id": "2fb35c14-ba44-44b4-9bce-b6e801e601fe",
   "metadata": {
    "tags": []
   },
   "outputs": [
    {
     "name": "stdout",
     "output_type": "stream",
     "text": [
      "with_backdoor: 0.37\n",
      "without_backdoor: 0.89\n"
     ]
    }
   ],
   "source": [
    "# evaluate model accuracy \n",
    "model = model.to(DEVICE)\n",
    "for k, dl in loader_map.items():\n",
    "    acc = eval_utils.get_accuracy_and_loss(model, dl, DEVICE, use_tqdm=False)['acc']\n",
    "    print ('{}: {:.2f}'.format(k, acc))"
   ]
  },
  {
   "cell_type": "markdown",
   "id": "0e4d34ff-04de-4cde-8499-e24f34e950d5",
   "metadata": {},
   "source": [
    "### Apply Coar-Edit"
   ]
  },
  {
   "cell_type": "code",
   "execution_count": 12,
   "id": "32bc4be6-ee9a-4a79-b576-c70b7ebe3cfd",
   "metadata": {
    "tags": []
   },
   "outputs": [
    {
     "name": "stdout",
     "output_type": "stream",
     "text": [
      "with_backdoor torch.Size([10, 2304])\n",
      "without_backdoor torch.Size([10, 2304])\n"
     ]
    }
   ],
   "source": [
    "# prepare inputs \n",
    "num_samples = 10 # number of paired attributions to sample\n",
    "subset_size = 30 # number of components to ablate \n",
    "ablate_order = 'bottomk' # get components with most negative scores (to increase margin)\n",
    "\n",
    "# sample random paired example-level attributions for Coar-Edit\n",
    "if ablate_order=='topk':\n",
    "    # \"airplane\" class examples iff ablate_order is topk bc trigger is correlated with airplane class \n",
    "    valid_inds = (eval_utils.get_labels(loader_map['without_backdoor'])==0).nonzero()[0]\n",
    "else: \n",
    "    valid_inds = (eval_utils.get_labels(loader_map['without_backdoor'])!=0).nonzero()[0]\n",
    "    \n",
    "sample_inds = np.random.choice(valid_inds, size=num_samples, replace=False)\n",
    "sampled_attb_map = {k: v[sample_inds] for k, v in attb_map.items()}\n",
    "\n",
    "for k, v in sampled_attb_map.items():\n",
    "    print (k, v.shape)"
   ]
  },
  {
   "cell_type": "code",
   "execution_count": 13,
   "id": "f77a93ac-e7b0-4c90-a3cf-e7dcbfffea25",
   "metadata": {
    "tags": []
   },
   "outputs": [
    {
     "data": {
      "text/plain": [
       "[('conv1.weight', 247),\n",
       " ('layer.1.conv1.weight', 99),\n",
       " ('layer.1.conv2.weight', 134),\n",
       " ('layer.0.conv1.weight', 226),\n",
       " ('layer.2.conv1.weight', 37),\n",
       " ('conv1.weight', 183),\n",
       " ('layer.1.conv1.weight', 35),\n",
       " ('conv1.weight', 94),\n",
       " ('layer.1.conv1.weight', 179),\n",
       " ('conv1.weight', 95)]"
      ]
     },
     "execution_count": 13,
     "metadata": {},
     "output_type": "execute_result"
    }
   ],
   "source": [
    "# use Coar-Edit to identify a subset of components to ablate \n",
    "scores = editor.score_components(sampled_attb_map['with_backdoor'],\n",
    "                                 sampled_attb_map['without_backdoor'])\n",
    "\n",
    "subset = editor.get_subset(scores, subset_size, ablate_order)\n",
    "subset_inds = subset.indices.numpy()\n",
    "ablate_set = [ndm_utils.get_component_from_index(ind, comps) for ind in subset_inds]\n",
    "ablate_set[:10]"
   ]
  },
  {
   "cell_type": "code",
   "execution_count": 14,
   "id": "f157794a-4123-454b-a35e-a38ea8bef5ed",
   "metadata": {
    "tags": []
   },
   "outputs": [
    {
     "name": "stderr",
     "output_type": "stream",
     "text": [
      "100%|█████████████████████████████████████████████████████████████████████| 31/31 [00:23<00:00,  1.34it/s]\n"
     ]
    },
    {
     "data": {
      "text/html": [
       "<div>\n",
       "<style scoped>\n",
       "    .dataframe tbody tr th:only-of-type {\n",
       "        vertical-align: middle;\n",
       "    }\n",
       "\n",
       "    .dataframe tbody tr th {\n",
       "        vertical-align: top;\n",
       "    }\n",
       "\n",
       "    .dataframe thead th {\n",
       "        text-align: right;\n",
       "    }\n",
       "</style>\n",
       "<table border=\"1\" class=\"dataframe\">\n",
       "  <thead>\n",
       "    <tr style=\"text-align: right;\">\n",
       "      <th></th>\n",
       "      <th>Number of components ablated</th>\n",
       "      <th>Data split</th>\n",
       "      <th>Accuracy</th>\n",
       "    </tr>\n",
       "  </thead>\n",
       "  <tbody>\n",
       "    <tr>\n",
       "      <th>0</th>\n",
       "      <td>0</td>\n",
       "      <td>Test accuracy (without backdoor)</td>\n",
       "      <td>0.8886</td>\n",
       "    </tr>\n",
       "    <tr>\n",
       "      <th>1</th>\n",
       "      <td>2</td>\n",
       "      <td>Test accuracy (without backdoor)</td>\n",
       "      <td>0.8874</td>\n",
       "    </tr>\n",
       "    <tr>\n",
       "      <th>2</th>\n",
       "      <td>4</td>\n",
       "      <td>Test accuracy (without backdoor)</td>\n",
       "      <td>0.8871</td>\n",
       "    </tr>\n",
       "    <tr>\n",
       "      <th>3</th>\n",
       "      <td>6</td>\n",
       "      <td>Test accuracy (without backdoor)</td>\n",
       "      <td>0.8857</td>\n",
       "    </tr>\n",
       "    <tr>\n",
       "      <th>4</th>\n",
       "      <td>8</td>\n",
       "      <td>Test accuracy (without backdoor)</td>\n",
       "      <td>0.8837</td>\n",
       "    </tr>\n",
       "  </tbody>\n",
       "</table>\n",
       "</div>"
      ],
      "text/plain": [
       "   Number of components ablated                        Data split  Accuracy\n",
       "0                             0  Test accuracy (without backdoor)    0.8886\n",
       "1                             2  Test accuracy (without backdoor)    0.8874\n",
       "2                             4  Test accuracy (without backdoor)    0.8871\n",
       "3                             6  Test accuracy (without backdoor)    0.8857\n",
       "4                             8  Test accuracy (without backdoor)    0.8837"
      ]
     },
     "execution_count": 14,
     "metadata": {},
     "output_type": "execute_result"
    },
    {
     "data": {
      "image/png": "[encoded data removed]",
      "text/plain": [
       "<Figure size 781.25x500 with 1 Axes>"
      ]
     },
     "metadata": {},
     "output_type": "display_data"
    }
   ],
   "source": [
    "# iteratively ablate identified components and evaluate model performance \n",
    "masked_model = get_model()\n",
    "rows = [] \n",
    "eval_every = 2\n",
    "\n",
    "for k in tqdm.trange(0, len(subset_inds)+1):\n",
    "    # ablate\n",
    "    masked_model = editor.ablate_model_given_indices(masked_model.cpu(), comps, subset_inds[:k])\n",
    "    masked_model = masked_model.to(DEVICE)\n",
    "    \n",
    "    if k % eval_every != 0: \n",
    "        continue \n",
    "    \n",
    "    # eval\n",
    "    acc_row = {k: eval_utils.get_accuracy_and_loss(masked_model, dl, DEVICE, use_tqdm=False)['acc']\n",
    "               for k, dl in loader_map.items()}\n",
    "    \n",
    "    # log\n",
    "    acc_row['Number of components ablated'] = k     \n",
    "    acc_row['Test accuracy (without backdoor)'] = acc_row.pop('without_backdoor')\n",
    "    acc_row['Test accuracy (with backdoor)'] = acc_row.pop('with_backdoor')\n",
    "    \n",
    "    rows.append(acc_row)\n",
    "    \n",
    "df = pd.DataFrame(rows).melt(id_vars=['Number of components ablated'], \n",
    "                             value_vars=['Test accuracy (without backdoor)',\n",
    "                                        'Test accuracy (with backdoor)'],\n",
    "                             var_name='Data split', \n",
    "                             value_name='Accuracy')\n",
    "\n",
    "# plot effect of edit on model performance \n",
    "sns.set_style('darkgrid')\n",
    "sns.relplot(data=df, \n",
    "            x='Number of components ablated', \n",
    "            y='Accuracy', \n",
    "            hue='Data split',\n",
    "            kind='line', \n",
    "            lw=2, marker='o')\n",
    "\n",
    "df.head(5)"
   ]
  }
 ],
 "metadata": {
  "kernelspec": {
   "display_name": "Python 3 (ipykernel)",
   "language": "python",
   "name": "python3"
  },
  "language_info": {
   "codemirror_mode": {
    "name": "ipython",
    "version": 3
   },
   "file_extension": ".py",
   "mimetype": "text/x-python",
   "name": "python",
   "nbconvert_exporter": "python",
   "pygments_lexer": "ipython3",
   "version": "3.10.9"
  }
 },
 "nbformat": 4,
 "nbformat_minor": 5
}
