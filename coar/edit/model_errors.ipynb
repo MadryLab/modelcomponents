{
 "cells": [
  {
   "cell_type": "markdown",
   "id": "e526cb83-bae4-4639-b336-4e056debb932",
   "metadata": {},
   "source": [
    "## Changing individual predictions\n",
    "\n",
    "In this notebook, we show that Coar-Edit can change individual predictions of an ImageNet ResNet50 classifier without impacting its overall performance. This experiment reproduces our findings in Section 5.1 of our paper."
   ]
  },
  {
   "cell_type": "code",
   "execution_count": 2,
   "id": "d7657066-6a8a-4141-accb-f0052cd73338",
   "metadata": {
    "tags": []
   },
   "outputs": [
    {
     "name": "stdout",
     "output_type": "stream",
     "text": [
      "The autoreload extension is already loaded. To reload it, use:\n",
      "  %reload_ext autoreload\n"
     ]
    }
   ],
   "source": [
    "import os \n",
    "import sys \n",
    "sys.path.append('..')\n",
    "\n",
    "import functools \n",
    "import torch\n",
    "import torchvision\n",
    "import numpy as np\n",
    "import pandas as pd \n",
    "from torch import nn\n",
    "import seaborn as sns\n",
    "import tqdm\n",
    "from collections import defaultdict\n",
    "import matplotlib.pyplot as plt\n",
    "\n",
    "from src.models import cifar_resnet\n",
    "from src.utils import ndm_utils\n",
    "from src.utils import data_utils\n",
    "from src.utils import eval_utils\n",
    "from src.utils import plot_utils\n",
    "from src.data import ffcv_pipelines\n",
    "import coar_edit\n",
    "\n",
    "%matplotlib inline\n",
    "%load_ext autoreload\n",
    "%autoreload 2"
   ]
  },
  {
   "cell_type": "markdown",
   "id": "d7bc2f04-98bc-4dac-b706-3224087fd7dd",
   "metadata": {
    "tags": []
   },
   "source": [
    "### Download attributions"
   ]
  },
  {
   "cell_type": "code",
   "execution_count": 14,
   "id": "0d475686-707d-48fa-8858-241df7f0e03d",
   "metadata": {
    "tags": []
   },
   "outputs": [
    {
     "name": "stdout",
     "output_type": "stream",
     "text": [
      "Downloading dataloader (FFCV format)\n",
      "File ‘out/imagenet_val.beton’ already there; not retrieving.\n",
      "Downloading attributions\n",
      "--2024-02-14 15:38:14--  https://www.dropbox.com/scl/fi/vd38pyjjyz1g7zu72r741/imagenet_resnet.pt?rlkey=45ideswhv9x3tyu7ctjcd84df&dl=0\n",
      "Resolving www.dropbox.com (www.dropbox.com)... 162.125.4.18, 2620:100:6019:18::a27d:412\n",
      "Connecting to www.dropbox.com (www.dropbox.com)|162.125.4.18|:443... connected.\n",
      "HTTP request sent, awaiting response... 302 Found\n",
      "Location: https://ucdbbe7c0329e385d57a26837175.dl.dropboxusercontent.com/cd/0/inline/CNT9bEzb7AfU5pq7M30q0OFyyRd3_4brDP0lm31aZ2WVZHfAa6U1UwHd6FQbIpYunw3ljyyhLA-F7P476fylTt7lgKvP1DxK06bqegeK_xGQXwxFHUMoYZIvUJvJ4xKLjBcHFcCIxtcneBLemZU9RKrG/file# [following]\n",
      "--2024-02-14 15:38:14--  https://ucdbbe7c0329e385d57a26837175.dl.dropboxusercontent.com/cd/0/inline/CNT9bEzb7AfU5pq7M30q0OFyyRd3_4brDP0lm31aZ2WVZHfAa6U1UwHd6FQbIpYunw3ljyyhLA-F7P476fylTt7lgKvP1DxK06bqegeK_xGQXwxFHUMoYZIvUJvJ4xKLjBcHFcCIxtcneBLemZU9RKrG/file\n",
      "Resolving ucdbbe7c0329e385d57a26837175.dl.dropboxusercontent.com (ucdbbe7c0329e385d57a26837175.dl.dropboxusercontent.com)... 162.125.4.15, 2620:100:6019:15::a27d:40f\n",
      "Connecting to ucdbbe7c0329e385d57a26837175.dl.dropboxusercontent.com (ucdbbe7c0329e385d57a26837175.dl.dropboxusercontent.com)|162.125.4.15|:443... connected.\n",
      "HTTP request sent, awaiting response... 302 Found\n",
      "Location: /cd/0/inline2/CNQldbSfTsvCPMdiq1Uj58Hci7xRXUSeEhjFj0pYLSMNTXJ1ca86kb41N_reViF7RJKjSGzL0GDwYw-bq1cXkYXs5DjzTqG16LOFYPRKM4FXOFzRAmmBKUs1sSDWOgkroiwhcOt-EQjZfgCQKIwjYe9kCf2hnOD_2pQYHA_LtVQaSLGzWh86dWN64DlCDnx6ZrCooLyTaArQV4pAmSQJBTKLHVm9DehwlnESiAa8BWhCnaLe1hKeg2_oeOXIPJRQIacB8ENHWx1wyuv1hzKYdL96MugCPLFD8KWbnFVvv3Q7gY0_UooRa_EGNqbuiMhjo9RikciwaZvCZqIASzt4ra7YYbsIziRfF7cZdkBBbXvlJIH1xs4-cfWpVCAQkeJgdSs/file [following]\n",
      "--2024-02-14 15:38:15--  https://ucdbbe7c0329e385d57a26837175.dl.dropboxusercontent.com/cd/0/inline2/CNQldbSfTsvCPMdiq1Uj58Hci7xRXUSeEhjFj0pYLSMNTXJ1ca86kb41N_reViF7RJKjSGzL0GDwYw-bq1cXkYXs5DjzTqG16LOFYPRKM4FXOFzRAmmBKUs1sSDWOgkroiwhcOt-EQjZfgCQKIwjYe9kCf2hnOD_2pQYHA_LtVQaSLGzWh86dWN64DlCDnx6ZrCooLyTaArQV4pAmSQJBTKLHVm9DehwlnESiAa8BWhCnaLe1hKeg2_oeOXIPJRQIacB8ENHWx1wyuv1hzKYdL96MugCPLFD8KWbnFVvv3Q7gY0_UooRa_EGNqbuiMhjo9RikciwaZvCZqIASzt4ra7YYbsIziRfF7cZdkBBbXvlJIH1xs4-cfWpVCAQkeJgdSs/file\n",
      "Reusing existing connection to ucdbbe7c0329e385d57a26837175.dl.dropboxusercontent.com:443.\n",
      "HTTP request sent, awaiting response... 200 OK\n",
      "Length: 4544401394 (4.2G) [application/octet-stream]\n",
      "Saving to: ‘out/imagenet_attb.pt’\n",
      "\n",
      "out/imagenet_attb.p 100%[===================>]   4.23G  28.1MB/s    in 1m 52s  \n",
      "\n",
      "2024-02-14 15:40:08 (38.8 MB/s) - ‘out/imagenet_attb.pt’ saved [4544401394/4544401394]\n",
      "\n"
     ]
    }
   ],
   "source": [
    "# note: ~20G\n",
    "print ('Downloading dataloader (FFCV format)') \n",
    "!wget -nc 'https://www.dropbox.com/scl/fi/ovztah82lk6qav1bkhpn3/imagenet_val.beton?rlkey=eroq5kcusbwdfecxk0xscnu3n&dl=0' -O out/imagenet_val.beton\n",
    "\n",
    "print ('Downloading attributions')\n",
    "!wget 'https://www.dropbox.com/scl/fi/vd38pyjjyz1g7zu72r741/imagenet_resnet.pt?rlkey=45ideswhv9x3tyu7ctjcd84df&dl=0' -O out/imagenet_attb.pt"
   ]
  },
  {
   "cell_type": "markdown",
   "id": "c39fc6bc-4a08-46ca-8100-bdc4f3af90d1",
   "metadata": {},
   "source": [
    "### Setup"
   ]
  },
  {
   "cell_type": "code",
   "execution_count": 21,
   "id": "c3b0715b-7386-40b0-971e-4a4f5bb2821f",
   "metadata": {
    "tags": []
   },
   "outputs": [],
   "source": [
    "DEVICE = torch.device(0) \n",
    "\n",
    "def get_model():\n",
    "    weights = torchvision.models.ResNet50_Weights.IMAGENET1K_V1\n",
    "    model = torchvision.models.resnet50(weights=weights).eval()\n",
    "    return model\n",
    "\n",
    "def get_attributions():\n",
    "    pth = 'out/imagenet_attb.pt'\n",
    "    return torch.load(pth)['weight'].T.float().nan_to_num()\n",
    "\n",
    "def get_loaders(batch_size=512, num_workers=2):\n",
    "    pipeline = ffcv_pipelines.get_pipelines('imagenet', 'val', DEVICE)\n",
    "    loaders = {'val': 'out/imagenet_val.beton'}\n",
    "    return {k: data_utils.get_ffcv_loader(v, batch_size, num_workers, pipeline, is_train=False) for k, v in loaders.items()}\n",
    "\n",
    "def get_model_components(model):\n",
    "    def is_component(comp_name):\n",
    "        valid = 'conv' in comp_name\n",
    "        return valid\n",
    "\n",
    "    def get_comp_dim(comp):\n",
    "        assert type(comp) is nn.Conv2d\n",
    "        return comp.out_channels\n",
    "\n",
    "    comp_dims = {}\n",
    "    for comp_name, comp in model.named_modules():\n",
    "        if not is_component(comp_name): continue\n",
    "        key = comp_name+'.weight'\n",
    "        comp_dims[key] = get_comp_dim(comp)\n",
    "\n",
    "    return comp_dims"
   ]
  },
  {
   "cell_type": "code",
   "execution_count": 22,
   "id": "5e0c7322-0145-4cd9-9172-1a53c7352cf0",
   "metadata": {
    "tags": []
   },
   "outputs": [
    {
     "data": {
      "text/plain": [
       "22720"
      ]
     },
     "execution_count": 22,
     "metadata": {},
     "output_type": "execute_result"
    }
   ],
   "source": [
    "# get model, data, attributions \n",
    "model = get_model()\n",
    "comps = get_model_components(model)\n",
    "num_components = sum(comps.values())\n",
    "\n",
    "loader_map = get_loaders() \n",
    "cnames = data_utils.SIMPLE_IMAGENET_CLASS_NAMES\n",
    "\n",
    "attb = get_attributions()\n",
    "editor = coar_edit.CoarEdit()\n",
    "\n",
    "num_components"
   ]
  },
  {
   "cell_type": "code",
   "execution_count": 23,
   "id": "6f2a4017-b1c0-4560-b2c7-6b415748e226",
   "metadata": {
    "tags": []
   },
   "outputs": [],
   "source": [
    "# get metadata\n",
    "model = model.to(DEVICE)\n",
    "preds, labels = eval_utils.get_predictions(model, loader_map['val'], DEVICE)\n",
    "margins = eval_utils.get_margins(model, loader_map['val'], DEVICE)"
   ]
  },
  {
   "cell_type": "markdown",
   "id": "5651c48a-0c02-4fb5-bdf9-367050b415ae",
   "metadata": {},
   "source": [
    "### Apply Coar-Edit to induce a misclassification"
   ]
  },
  {
   "cell_type": "code",
   "execution_count": 24,
   "id": "be1f58a3-a034-45ab-8664-c69de2e93565",
   "metadata": {
    "tags": []
   },
   "outputs": [
    {
     "name": "stdout",
     "output_type": "stream",
     "text": [
      "#6671 (bittern)\n",
      "Margin: 7.086\n",
      "target examples torch.Size([1, 22720])\n",
      "reference examples torch.Size([50, 22720])\n"
     ]
    }
   ],
   "source": [
    "# prepare inputs \n",
    "valid_inds = (margins>0).nonzero()[0]\n",
    "\n",
    "mi = np.random.choice(valid_inds)\n",
    "print ('#{} ({})'.format(mi, cnames[labels[mi]], cnames[preds[mi]]))\n",
    "print ('Margin: {:.3f}'.format(margins[mi]))\n",
    "\n",
    "num_ref = 50\n",
    "ref_inds = np.random.choice(range(attb.shape[0]), size=num_ref, replace=False)\n",
    "ref_attb = attb[ref_inds]\n",
    "target_attb = attb[mi][None,:]\n",
    "\n",
    "print ('target examples', target_attb.shape)\n",
    "print ('reference examples', ref_attb.shape)"
   ]
  },
  {
   "cell_type": "code",
   "execution_count": 25,
   "id": "dbe54377-9e4a-4fff-bc39-e0c8887424a8",
   "metadata": {
    "tags": []
   },
   "outputs": [
    {
     "data": {
      "text/plain": [
       "[('layer4.1.conv2.weight', 386),\n",
       " ('layer3.4.conv3.weight', 1),\n",
       " ('layer4.0.conv2.weight', 168),\n",
       " ('layer4.2.conv1.weight', 236),\n",
       " ('layer3.4.conv2.weight', 35),\n",
       " ('layer4.2.conv2.weight', 124),\n",
       " ('layer4.0.conv1.weight', 369),\n",
       " ('layer4.0.conv2.weight', 466),\n",
       " ('layer4.0.conv3.weight', 257),\n",
       " ('layer4.1.conv3.weight', 257)]"
      ]
     },
     "execution_count": 25,
     "metadata": {},
     "output_type": "execute_result"
    }
   ],
   "source": [
    "# use Coar-Edit to identify a subset of components to ablate \n",
    "subset_size = 200 # max number of components to ablate \n",
    "ablate_order = 'topk' # get components with most negative scores (to increase margin)\n",
    "\n",
    "scores = editor.score_components(target_attb, ref_attb)\n",
    "subset = editor.get_subset(scores, subset_size, ablate_order)\n",
    "subset_inds = subset.indices.numpy()\n",
    "ablate_set = [ndm_utils.get_component_from_index(ind, comps) for ind in subset_inds]\n",
    "ablate_set[:10]"
   ]
  },
  {
   "cell_type": "code",
   "execution_count": 26,
   "id": "2771ff9c-7585-4d5f-b6e6-fb346f34845c",
   "metadata": {
    "tags": []
   },
   "outputs": [
    {
     "name": "stderr",
     "output_type": "stream",
     "text": [
      "(avg:3.00, example:-0.45):  10%|████                                     | 20/200 [00:42<06:22,  2.13s/it]\n"
     ]
    },
    {
     "name": "stdout",
     "output_type": "stream",
     "text": [
      "Accuracy: 0.754 -> 0.754\n"
     ]
    },
    {
     "data": {
      "image/png": "[encoded data removed]",
      "text/plain": [
       "<Figure size 746.75x500 with 1 Axes>"
      ]
     },
     "metadata": {},
     "output_type": "display_data"
    }
   ],
   "source": [
    "# iteratively ablate identified components and evaluate model performance \n",
    "eval_every = 5\n",
    "masked_model = get_model().to(DEVICE)\n",
    "rows = [] \n",
    "\n",
    "for k, (comp_name, comp_idx) in (pbar:=tqdm.tqdm(list(enumerate(ablate_set)))):\n",
    "    if k % eval_every == 0:\n",
    "        # eval + log\n",
    "        masked_margins = eval_utils.get_margins(masked_model, loader_map['val'], DEVICE)\n",
    "        margin_avg = np.mean(masked_margins) \n",
    "        example_margin = masked_margins[mi] \n",
    "\n",
    "        row = {\n",
    "            'Num. components ablated': k,\n",
    "            'Average margin over val set': margin_avg, \n",
    "            'Example margin': example_margin,\n",
    "            'Accuracy': (masked_margins>0).mean()\n",
    "        }\n",
    "\n",
    "        rows.append(row)\n",
    "        pbar.set_description('(avg:{:.2f}, example:{:.2f})'.format(margin_avg, example_margin))\n",
    "        \n",
    "        if example_margin < 0:\n",
    "            break\n",
    "    \n",
    "    # ablate\n",
    "    masked_model = editor.ablate_model_given_component(masked_model, comp_name, comp_idx)\n",
    "    masked_model = masked_model.to(DEVICE).eval()\n",
    "    \n",
    "# plot effect of edit on model performance \n",
    "df = pd.DataFrame(rows)\n",
    "pdf = df.melt(id_vars=['Num. components ablated'], \n",
    "              value_vars=['Average margin over val set', 'Example margin'],\n",
    "              var_name='Split', \n",
    "              value_name='Margin')\n",
    "\n",
    "sns.set_style('darkgrid')\n",
    "fg = sns.relplot(data=pdf, \n",
    "                 x='Num. components ablated', \n",
    "                 y='Margin', \n",
    "                 hue='Split',\n",
    "                 kind='line', \n",
    "                 lw=2, marker='o')\n",
    "\n",
    "fg.axes[0,0].axhline(0, color='red', ls='--', lw=2)\n",
    "fg.fig.suptitle\n",
    "\n",
    "acc_before_edit = df.iloc[0]['Accuracy']\n",
    "acc_after_edit = df[(df['Example margin']>0)].sort_values('Num. components ablated').iloc[0]['Accuracy']\n",
    "print ('Accuracy: {:.3f} -> {:.3f}'.format(acc_before_edit, acc_after_edit))"
   ]
  },
  {
   "cell_type": "markdown",
   "id": "508141fa-b15a-4f69-8a1f-6432f9acb40d",
   "metadata": {
    "tags": []
   },
   "source": [
    "### Apply Coar-Edit to correct a misclassification"
   ]
  },
  {
   "cell_type": "code",
   "execution_count": 31,
   "id": "c4207e81-2daf-475d-b0ce-b69486c08beb",
   "metadata": {
    "tags": []
   },
   "outputs": [
    {
     "name": "stdout",
     "output_type": "stream",
     "text": [
      "#20347 (altar misclassified as throne)\n",
      "Margin: -2.391\n",
      "target examples torch.Size([1, 22720])\n",
      "reference examples torch.Size([50, 22720])\n"
     ]
    }
   ],
   "source": [
    "# prepare inputs \n",
    "valid_inds = (margins>0).nonzero()[0]\n",
    "\n",
    "misclassified_inds = (margins<0).nonzero()[0]\n",
    "mi = misclassified_ind = np.random.choice(misclassified_inds)\n",
    "print ('#{} ({} misclassified as {})'.format(mi, cnames[labels[mi]], cnames[preds[mi]]))\n",
    "print ('Margin: {:.3f}'.format(margins[mi]))\n",
    "\n",
    "num_ref = 50\n",
    "ref_inds = np.random.choice(range(attb.shape[0]), size=num_ref, replace=False)\n",
    "ref_attb = attb[ref_inds]\n",
    "target_attb = attb[mi][None,:]\n",
    "\n",
    "print ('target examples', target_attb.shape)\n",
    "print ('reference examples', ref_attb.shape)"
   ]
  },
  {
   "cell_type": "code",
   "execution_count": 32,
   "id": "bf714041-586d-41b9-a5b7-a6aadd583bad",
   "metadata": {
    "tags": []
   },
   "outputs": [
    {
     "data": {
      "text/plain": [
       "[('layer4.1.conv2.weight', 504),\n",
       " ('layer4.1.conv3.weight', 246),\n",
       " ('layer4.0.conv3.weight', 246),\n",
       " ('layer4.2.conv3.weight', 246),\n",
       " ('layer4.1.conv3.weight', 893),\n",
       " ('layer4.0.conv2.weight', 81),\n",
       " ('layer4.0.conv2.weight', 406),\n",
       " ('layer4.1.conv3.weight', 1693),\n",
       " ('layer4.2.conv1.weight', 1),\n",
       " ('layer4.0.conv3.weight', 511)]"
      ]
     },
     "execution_count": 32,
     "metadata": {},
     "output_type": "execute_result"
    }
   ],
   "source": [
    "# use Coar-Edit to identify a subset of components to ablate \n",
    "subset_size = 200 # max number of components to ablate \n",
    "ablate_order = 'bottomk' # get components with most negative scores (to increase margin)\n",
    "\n",
    "scores = editor.score_components(target_attb, ref_attb)\n",
    "subset = editor.get_subset(scores, subset_size, ablate_order)\n",
    "subset_inds = subset.indices.numpy()\n",
    "ablate_set = [ndm_utils.get_component_from_index(ind, comps) for ind in subset_inds]\n",
    "ablate_set[:10]"
   ]
  },
  {
   "cell_type": "code",
   "execution_count": 33,
   "id": "c6fcba8e-6ca1-4b52-8ae1-95807f073f69",
   "metadata": {
    "tags": []
   },
   "outputs": [
    {
     "name": "stderr",
     "output_type": "stream",
     "text": [
      "(avg:3.03, example:0.31):   3%|█▎                                         | 6/200 [00:34<18:24,  5.69s/it]\n"
     ]
    },
    {
     "name": "stdout",
     "output_type": "stream",
     "text": [
      "Accuracy: 0.754 -> 0.753\n"
     ]
    },
    {
     "data": {
      "image/png": "[encoded data removed]",
      "text/plain": [
       "<Figure size 746.75x500 with 1 Axes>"
      ]
     },
     "metadata": {},
     "output_type": "display_data"
    }
   ],
   "source": [
    "# iteratively ablate identified components and evaluate model performance \n",
    "eval_every = 2\n",
    "masked_model = get_model().to(DEVICE)\n",
    "rows = [] \n",
    "\n",
    "for k, (comp_name, comp_idx) in (pbar:=tqdm.tqdm(list(enumerate(ablate_set)))):\n",
    "    if k % eval_every == 0:\n",
    "        # eval + log\n",
    "        masked_margins = eval_utils.get_margins(masked_model, loader_map['val'], DEVICE)\n",
    "        margin_avg = np.mean(masked_margins) \n",
    "        example_margin = masked_margins[mi] \n",
    "\n",
    "        row = {\n",
    "            'Num. components ablated': k,\n",
    "            'Average margin over val set': margin_avg, \n",
    "            'Example margin': example_margin,\n",
    "            'Accuracy': (masked_margins>0).mean()\n",
    "        }\n",
    "\n",
    "        rows.append(row)\n",
    "        pbar.set_description('(avg:{:.2f}, example:{:.2f})'.format(margin_avg, example_margin))\n",
    "        \n",
    "        if example_margin > 0:\n",
    "            break\n",
    "    \n",
    "    # ablate\n",
    "    masked_model = editor.ablate_model_given_component(masked_model, comp_name, comp_idx)\n",
    "    masked_model = masked_model.to(DEVICE).eval()\n",
    "    \n",
    "# plot effect of edit on model performance \n",
    "df = pd.DataFrame(rows)\n",
    "pdf = df.melt(id_vars=['Num. components ablated'], \n",
    "              value_vars=['Average margin over val set', 'Example margin'],\n",
    "              var_name='Split', \n",
    "              value_name='Margin')\n",
    "\n",
    "sns.set_style('darkgrid')\n",
    "fg = sns.relplot(data=pdf, \n",
    "                 x='Num. components ablated', \n",
    "                 y='Margin', \n",
    "                 hue='Split',\n",
    "                 kind='line', \n",
    "                 lw=2, marker='o')\n",
    "\n",
    "fg.axes[0,0].axhline(0, color='red', ls='--', lw=2)\n",
    "fg.fig.suptitle\n",
    "\n",
    "acc_before_edit = df.iloc[0]['Accuracy']\n",
    "\n",
    "if len(df[(df['Example margin']>0)]):\n",
    "    acc_after_edit = df[(df['Example margin']>0)].sort_values('Num. components ablated').iloc[0]['Accuracy']\n",
    "else: \n",
    "    acc_after_edit = df.sort_values('Example margin').iloc[0]['Accuracy']\n",
    "    \n",
    "print ('Accuracy: {:.3f} -> {:.3f}'.format(acc_before_edit, acc_after_edit))"
   ]
  }
 ],
 "metadata": {
  "kernelspec": {
   "display_name": "Python 3 (ipykernel)",
   "language": "python",
   "name": "python3"
  },
  "language_info": {
   "codemirror_mode": {
    "name": "ipython",
    "version": 3
   },
   "file_extension": ".py",
   "mimetype": "text/x-python",
   "name": "python",
   "nbconvert_exporter": "python",
   "pygments_lexer": "ipython3",
   "version": "3.10.9"
  }
 },
 "nbformat": 4,
 "nbformat_minor": 5
}
