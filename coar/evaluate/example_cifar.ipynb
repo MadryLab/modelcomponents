{
 "cells": [
  {
   "cell_type": "markdown",
   "id": "37f10768-2460-4289-9bc0-f89ea7ff576c",
   "metadata": {},
   "source": [
    "## Evaluating Coar attributions \n",
    "\n",
    "We evaluate pre-computed attributions of a CIFAR-10 ResNet18 model in this notebook.\n",
    "Specifically, we quantifes the extent to which Coar attributions can accurately predict the counterfactual effect of ablating random $\\alpha$-sized component subsets on model outputs."
   ]
  },
  {
   "cell_type": "code",
   "execution_count": 9,
   "id": "77ecb93d-0c81-4d3a-8c02-6a2703f0d232",
   "metadata": {
    "tags": []
   },
   "outputs": [
    {
     "name": "stdout",
     "output_type": "stream",
     "text": [
      "The autoreload extension is already loaded. To reload it, use:\n",
      "  %reload_ext autoreload\n"
     ]
    }
   ],
   "source": [
    "import sys \n",
    "sys.path.append('..')\n",
    "\n",
    "import functools \n",
    "import torch\n",
    "from torch import nn\n",
    "import seaborn as sns\n",
    "\n",
    "from src.models import cifar_resnet\n",
    "from src.utils import ndm_utils, data_utils\n",
    "from src.data import ffcv_pipelines\n",
    "from evaluate import EvaluateCoar, get_masked_model\n",
    "\n",
    "%matplotlib inline\n",
    "%load_ext autoreload\n",
    "%autoreload 2"
   ]
  },
  {
   "cell_type": "markdown",
   "id": "f36891df",
   "metadata": {},
   "source": [
    "### Download model, beton, and attributions "
   ]
  },
  {
   "cell_type": "code",
   "execution_count": 9,
   "id": "4ef460d8-55b3-48ba-85bf-a4fb7278d4ee",
   "metadata": {
    "tags": []
   },
   "outputs": [
    {
     "name": "stdout",
     "output_type": "stream",
     "text": [
      "--2024-02-13 02:00:08--  https://www.dropbox.com/scl/fi/muszxvauowakwvlczjgct/cifar.pt?rlkey=t1kqjusw1p3yr6264cxnnx1f5&dl=0\n",
      "Resolving www.dropbox.com (www.dropbox.com)... 162.125.4.18, 2620:100:6019:18::a27d:412\n",
      "Connecting to www.dropbox.com (www.dropbox.com)|162.125.4.18|:443... connected.\n",
      "HTTP request sent, awaiting response... 302 Found\n",
      "Location: https://ucd638b01d1da5729f63636e51d3.dl.dropboxusercontent.com/cd/0/inline/CNK1j_kuk3-uJOTdBAknjNShgivSShW_5oSihuAOObdTjk9eHoNx76DE75od---G4P5P29HYYDHpkJVNSCBeqjLIYcDgyxLIlC7k1y7G3o2sOaMRgE-4hekE00ukeA-5hKSwFP1VQxS_a0FN5dRU3vsE/file# [following]\n",
      "--2024-02-13 02:00:09--  https://ucd638b01d1da5729f63636e51d3.dl.dropboxusercontent.com/cd/0/inline/CNK1j_kuk3-uJOTdBAknjNShgivSShW_5oSihuAOObdTjk9eHoNx76DE75od---G4P5P29HYYDHpkJVNSCBeqjLIYcDgyxLIlC7k1y7G3o2sOaMRgE-4hekE00ukeA-5hKSwFP1VQxS_a0FN5dRU3vsE/file\n",
      "Resolving ucd638b01d1da5729f63636e51d3.dl.dropboxusercontent.com (ucd638b01d1da5729f63636e51d3.dl.dropboxusercontent.com)... 162.125.4.15, 2620:100:6019:15::a27d:40f\n",
      "Connecting to ucd638b01d1da5729f63636e51d3.dl.dropboxusercontent.com (ucd638b01d1da5729f63636e51d3.dl.dropboxusercontent.com)|162.125.4.15|:443... connected.\n",
      "HTTP request sent, awaiting response... 200 OK\n",
      "Length: 46161049 (44M) [text/plain]\n",
      "Saving to: ‘out/cifar_attributions.pt’\n",
      "\n",
      "out/cifar_attributi 100%[===================>]  44.02M  45.9MB/s    in 1.0s    \n",
      "\n",
      "2024-02-13 02:00:11 (45.9 MB/s) - ‘out/cifar_attributions.pt’ saved [46161049/46161049]\n",
      "\n",
      "--2024-02-13 02:00:11--  https://www.dropbox.com/scl/fi/ar7fput9rzyxebep0cgqf/cifar.pt?rlkey=y4hmrj94o4vxe4so55z1ebefw&dl=0\n",
      "Resolving www.dropbox.com (www.dropbox.com)... 162.125.4.18, 2620:100:6019:18::a27d:412\n",
      "Connecting to www.dropbox.com (www.dropbox.com)|162.125.4.18|:443... connected.\n",
      "HTTP request sent, awaiting response... 302 Found\n",
      "Location: https://uc1590ef975b71f3f8308e347c92.dl.dropboxusercontent.com/cd/0/inline/CNInM5ApDUG1mg8puTjS6eCGgUWbMF0SzzmFiodOE6sjtZBK3pmubt3P3Zy6IPg_C_JITjXYsq1lqn00ckF4-8Cu5UnXhpwpsgsMDH2_gAUmO1HV5wGD04wYzUGaN0L2R4wTSBrvcMxPcMHupNo6M_n9/file# [following]\n",
      "--2024-02-13 02:00:12--  https://uc1590ef975b71f3f8308e347c92.dl.dropboxusercontent.com/cd/0/inline/CNInM5ApDUG1mg8puTjS6eCGgUWbMF0SzzmFiodOE6sjtZBK3pmubt3P3Zy6IPg_C_JITjXYsq1lqn00ckF4-8Cu5UnXhpwpsgsMDH2_gAUmO1HV5wGD04wYzUGaN0L2R4wTSBrvcMxPcMHupNo6M_n9/file\n",
      "Resolving uc1590ef975b71f3f8308e347c92.dl.dropboxusercontent.com (uc1590ef975b71f3f8308e347c92.dl.dropboxusercontent.com)... 162.125.4.15, 2620:100:6019:15::a27d:40f\n",
      "Connecting to uc1590ef975b71f3f8308e347c92.dl.dropboxusercontent.com (uc1590ef975b71f3f8308e347c92.dl.dropboxusercontent.com)|162.125.4.15|:443... connected.\n",
      "HTTP request sent, awaiting response... 302 Found\n",
      "Location: /cd/0/inline2/CNI_Ji1_MUgLiso2hYmp8N2RBoITEeGueSWhqmh9KdljpisQ24szH59yobiHlbvEGyB3m2Qdu_-jOG9PwgfNwbNGHL1wCK0IDeEsOEoUEivwQULLTbz7kkhP9tzCMrMMWuTjnwYyeho-TqeJZRVmufcqFNL7fdEirVJkzbmH8X6wMmSqaRlArDcwrKu9Xh9zz7MIMP4n335kIT9idTMLFX_J-MkKGioFBsyhZ27nv81NLKjqJAHrvl90BEaaVUjG9m6XN7F_VEYUZFjo1dians8pv_c8G95v8L7z58ufpo2DgdRN9T4uE93pTRuJaRA0U810ySxTOvYUWjbcG-ecUHNAUS_wYmJ-4KfxmUuZHFIlwYcNi9EwyWd5uaRVXV4W9Z0/file [following]\n",
      "--2024-02-13 02:00:12--  https://uc1590ef975b71f3f8308e347c92.dl.dropboxusercontent.com/cd/0/inline2/CNI_Ji1_MUgLiso2hYmp8N2RBoITEeGueSWhqmh9KdljpisQ24szH59yobiHlbvEGyB3m2Qdu_-jOG9PwgfNwbNGHL1wCK0IDeEsOEoUEivwQULLTbz7kkhP9tzCMrMMWuTjnwYyeho-TqeJZRVmufcqFNL7fdEirVJkzbmH8X6wMmSqaRlArDcwrKu9Xh9zz7MIMP4n335kIT9idTMLFX_J-MkKGioFBsyhZ27nv81NLKjqJAHrvl90BEaaVUjG9m6XN7F_VEYUZFjo1dians8pv_c8G95v8L7z58ufpo2DgdRN9T4uE93pTRuJaRA0U810ySxTOvYUWjbcG-ecUHNAUS_wYmJ-4KfxmUuZHFIlwYcNi9EwyWd5uaRVXV4W9Z0/file\n",
      "Reusing existing connection to uc1590ef975b71f3f8308e347c92.dl.dropboxusercontent.com:443.\n",
      "HTTP request sent, awaiting response... 200 OK\n",
      "Length: 19124605 (18M) [application/octet-stream]\n",
      "Saving to: ‘out/cifar_model.pt’\n",
      "\n",
      "out/cifar_model.pt  100%[===================>]  18.24M  --.-KB/s    in 0.1s    \n",
      "\n",
      "2024-02-13 02:00:13 (151 MB/s) - ‘out/cifar_model.pt’ saved [19124605/19124605]\n",
      "\n",
      "--2024-02-13 02:00:13--  https://www.dropbox.com/scl/fi/4zj04xkgnb5mpw4aosvrt/cifar10.beton?rlkey=wspv74qs0h7l5cbxmzntmsywe&dl=0\n",
      "Resolving www.dropbox.com (www.dropbox.com)... 162.125.4.18, 2620:100:6019:18::a27d:412\n",
      "Connecting to www.dropbox.com (www.dropbox.com)|162.125.4.18|:443... connected.\n",
      "HTTP request sent, awaiting response... 302 Found\n",
      "Location: https://ucbe9319857871ad9f7a0828bb2c.dl.dropboxusercontent.com/cd/0/inline/CNKcLyxYvQuuPzCFKIVdqovTNO1cUQi72lIxcsUoH0Gnzfrkx_neU8oK5iFTCLZNdkCB1iWoXhhik_-l2JrcuKHi5nyGChBfg29NBK1u9msxoYhE6SafHPCw7MMLvZvvdv6mtZ0BIIc1GJYJFqM4hmKa/file# [following]\n",
      "--2024-02-13 02:00:14--  https://ucbe9319857871ad9f7a0828bb2c.dl.dropboxusercontent.com/cd/0/inline/CNKcLyxYvQuuPzCFKIVdqovTNO1cUQi72lIxcsUoH0Gnzfrkx_neU8oK5iFTCLZNdkCB1iWoXhhik_-l2JrcuKHi5nyGChBfg29NBK1u9msxoYhE6SafHPCw7MMLvZvvdv6mtZ0BIIc1GJYJFqM4hmKa/file\n",
      "Resolving ucbe9319857871ad9f7a0828bb2c.dl.dropboxusercontent.com (ucbe9319857871ad9f7a0828bb2c.dl.dropboxusercontent.com)... 162.125.4.15, 2620:100:6019:15::a27d:40f\n",
      "Connecting to ucbe9319857871ad9f7a0828bb2c.dl.dropboxusercontent.com (ucbe9319857871ad9f7a0828bb2c.dl.dropboxusercontent.com)|162.125.4.15|:443... connected.\n",
      "HTTP request sent, awaiting response... 200 OK\n",
      "Length: 42183040 (40M) [text/plain]\n",
      "Saving to: ‘out/cifar.beton’\n",
      "\n",
      "out/cifar.beton     100%[===================>]  40.23M   159MB/s    in 0.3s    \n",
      "\n",
      "2024-02-13 02:00:15 (159 MB/s) - ‘out/cifar.beton’ saved [42183040/42183040]\n",
      "\n"
     ]
    }
   ],
   "source": [
    "# size ~ 100 MB \n",
    "# attributions\n",
    "!wget 'https://www.dropbox.com/scl/fi/muszxvauowakwvlczjgct/cifar.pt?rlkey=t1kqjusw1p3yr6264cxnnx1f5&dl=0' -O out/cifar_attributions.pt\n",
    "# model\n",
    "!wget 'https://www.dropbox.com/scl/fi/ar7fput9rzyxebep0cgqf/cifar.pt?rlkey=y4hmrj94o4vxe4so55z1ebefw&dl=0' -O out/cifar_model.pt\n",
    "# dataloader in ffcv .beton format\n",
    "!wget 'https://www.dropbox.com/scl/fi/4zj04xkgnb5mpw4aosvrt/cifar10.beton?rlkey=wspv74qs0h7l5cbxmzntmsywe&dl=0' -O out/cifar.beton"
   ]
  },
  {
   "cell_type": "markdown",
   "id": "2b1ffffa-360b-44f6-a883-747acc299605",
   "metadata": {},
   "source": [
    "### Evaluate "
   ]
  },
  {
   "cell_type": "code",
   "execution_count": 3,
   "id": "63724b3c-8bf0-40c0-92d6-282d25ca8d0e",
   "metadata": {
    "tags": []
   },
   "outputs": [],
   "source": [
    "DEVICE = torch.device(0) \n",
    "\n",
    "def get_model():\n",
    "    model = torch.load('out/cifar_model.pt').cpu().eval()\n",
    "    return model\n",
    "\n",
    "def get_attributions():\n",
    "    A = torch.load('out/cifar_attributions.pt')\n",
    "    A = A['weight'].T.float()\n",
    "    return A\n",
    "\n",
    "def get_loader(batch_size=256, num_workers=2):\n",
    "    pipeline = ffcv_pipelines.get_pipelines('cifar10', 'test', DEVICE)\n",
    "    loader = data_utils.get_ffcv_loader('out/cifar.beton', batch_size, num_workers, pipeline, is_train=False)\n",
    "    return loader\n",
    "\n",
    "def get_model_components(model):\n",
    "    def is_component(comp_name):\n",
    "        valid = 'conv' in comp_name\n",
    "        return valid\n",
    "\n",
    "    def get_comp_dim(comp):\n",
    "        assert type(comp) is nn.Conv2d\n",
    "        return comp.out_channels\n",
    "\n",
    "    comp_dims = {}\n",
    "    for comp_name, comp in model.named_modules():\n",
    "        if not is_component(comp_name): continue\n",
    "        key = comp_name+'.weight'\n",
    "        comp_dims[key] = get_comp_dim(comp)\n",
    "\n",
    "    return comp_dims"
   ]
  },
  {
   "cell_type": "code",
   "execution_count": 4,
   "id": "1419a4b4-6ea5-4300-aaeb-5ad451223a3e",
   "metadata": {
    "tags": []
   },
   "outputs": [],
   "source": [
    "model = get_model()\n",
    "comps = get_model_components(model)\n",
    "mask_model_wrapper = functools.partial(get_masked_model, comp_dims=comps)\n",
    "\n",
    "attb = get_attributions()\n",
    "loader = get_loader() \n",
    "\n",
    "coar_eval = EvaluateCoar(attb, get_model, mask_model_wrapper, loader, attb.shape[1], DEVICE)"
   ]
  },
  {
   "cell_type": "code",
   "execution_count": 20,
   "id": "2afde2c9-4335-443a-82b1-866300e0ce7b",
   "metadata": {
    "tags": []
   },
   "outputs": [
    {
     "name": "stderr",
     "output_type": "stream",
     "text": [
      "100%|███████████████████████████████████████████████████████████████████████████████| 100/100 [01:12<00:00,  1.38it/s]\n",
      "100%|███████████████████████████████████████████████████████████████████████████████| 100/100 [01:14<00:00,  1.34it/s]\n",
      "100%|███████████████████████████████████████████████████████████████████████████████| 100/100 [01:15<00:00,  1.32it/s]\n"
     ]
    }
   ],
   "source": [
    "mask_probs = [0.1, 0.05, 0.025]\n",
    "num_runs = 100 \n",
    "cor_df = coar_eval.get_correlation_dataframe(mask_probs, num_runs, use_tqdm=True)"
   ]
  },
  {
   "cell_type": "code",
   "execution_count": 21,
   "id": "3671c910-f189-49b4-83aa-a90248703837",
   "metadata": {
    "tags": []
   },
   "outputs": [
    {
     "data": {
      "text/plain": [
       "<seaborn.axisgrid.FacetGrid at 0x7f85cd3b6710>"
      ]
     },
     "execution_count": 21,
     "metadata": {},
     "output_type": "execute_result"
    },
    {
     "data": {
      "image/png": "[encoded data removed]",
      "text/plain": [
       "<Figure size 511.111x500 with 1 Axes>"
      ]
     },
     "metadata": {},
     "output_type": "display_data"
    }
   ],
   "source": [
    "sns.catplot(data=cor_df, x='Subsampling fraction', y='Model output correlation', kind='bar')"
   ]
  },
  {
   "cell_type": "code",
   "execution_count": null,
   "id": "d2252b42-4490-474a-b6bd-7b9e12c6c708",
   "metadata": {},
   "outputs": [],
   "source": []
  }
 ],
 "metadata": {
  "kernelspec": {
   "display_name": "Python 3 (ipykernel)",
   "language": "python",
   "name": "python3"
  },
  "language_info": {
   "codemirror_mode": {
    "name": "ipython",
    "version": 3
   },
   "file_extension": ".py",
   "mimetype": "text/x-python",
   "name": "python",
   "nbconvert_exporter": "python",
   "pygments_lexer": "ipython3",
   "version": "3.10.9"
  }
 },
 "nbformat": 4,
 "nbformat_minor": 5
}
