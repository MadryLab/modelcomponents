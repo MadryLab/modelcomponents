{
 "cells": [
  {
   "cell_type": "markdown",
   "id": "37f10768-2460-4289-9bc0-f89ea7ff576c",
   "metadata": {},
   "source": [
    "## Evaluating Coar attributions \n",
    "\n",
    "We evaluate pre-computed attributions of an ImageNet ViT-B/16 model in this notebook.\n",
    "Specifically, we quantifes the extent to which Coar attributions can accurately predict the counterfactual effect of ablating random $\\alpha$-sized component subsets on model outputs."
   ]
  },
  {
   "cell_type": "code",
   "execution_count": 1,
   "id": "9bd8bc81-b5d5-43ee-900f-afc539397ee0",
   "metadata": {
    "tags": []
   },
   "outputs": [],
   "source": [
    "import sys \n",
    "sys.path.append('..')"
   ]
  },
  {
   "cell_type": "code",
   "execution_count": 7,
   "id": "77ecb93d-0c81-4d3a-8c02-6a2703f0d232",
   "metadata": {
    "tags": []
   },
   "outputs": [
    {
     "name": "stdout",
     "output_type": "stream",
     "text": [
      "The autoreload extension is already loaded. To reload it, use:\n",
      "  %reload_ext autoreload\n"
     ]
    }
   ],
   "source": [
    "import functools \n",
    "import torch\n",
    "import torchvision\n",
    "from torch import nn\n",
    "import seaborn as sns\n",
    "import numpy as np\n",
    "\n",
    "from src.models import cifar_resnet\n",
    "from src.utils import ndm_utils, data_utils\n",
    "from src.data import ffcv_pipelines\n",
    "from evaluate import EvaluateCoar, get_masked_model\n",
    "\n",
    "%matplotlib inline\n",
    "%load_ext autoreload\n",
    "%autoreload 2"
   ]
  },
  {
   "cell_type": "markdown",
   "id": "f36891df",
   "metadata": {},
   "source": [
    "### Download model, beton, and attributions "
   ]
  },
  {
   "cell_type": "code",
   "execution_count": 3,
   "id": "4ef460d8-55b3-48ba-85bf-a4fb7278d4ee",
   "metadata": {
    "tags": []
   },
   "outputs": [
    {
     "name": "stdout",
     "output_type": "stream",
     "text": [
      "--2024-02-13 03:34:04--  https://www.dropbox.com/scl/fi/lm4hnvz4la8g9cg7ex9gp/imagenet_vit.pt?rlkey=6jz2rrrug1rw0zfdddeetooxo&dl=0\n",
      "Resolving www.dropbox.com (www.dropbox.com)... 162.125.4.18, 2620:100:6019:18::a27d:412\n",
      "Connecting to www.dropbox.com (www.dropbox.com)|162.125.4.18|:443... connected.\n",
      "HTTP request sent, awaiting response... 302 Found\n",
      "Location: https://uc824adc7edb44b0391df79e5897.dl.dropboxusercontent.com/cd/0/inline/CNOAiPLED8mLVecpmaeZT9t8l86n298E9AHOpHs_L7NH4FloqfkZ1-FeCkZGv7mvOuv1TXcWdy5CfqDHV6ZXs_-Ou8wZW244BBB9Ox0C19N_k3-zohNZQP1hUQGdna0KyhmCIuyYOfq8Tm08r0KDpdkS/file# [following]\n",
      "--2024-02-13 03:34:05--  https://uc824adc7edb44b0391df79e5897.dl.dropboxusercontent.com/cd/0/inline/CNOAiPLED8mLVecpmaeZT9t8l86n298E9AHOpHs_L7NH4FloqfkZ1-FeCkZGv7mvOuv1TXcWdy5CfqDHV6ZXs_-Ou8wZW244BBB9Ox0C19N_k3-zohNZQP1hUQGdna0KyhmCIuyYOfq8Tm08r0KDpdkS/file\n",
      "Resolving uc824adc7edb44b0391df79e5897.dl.dropboxusercontent.com (uc824adc7edb44b0391df79e5897.dl.dropboxusercontent.com)... 162.125.4.15, 2620:100:6019:15::a27d:40f\n",
      "Connecting to uc824adc7edb44b0391df79e5897.dl.dropboxusercontent.com (uc824adc7edb44b0391df79e5897.dl.dropboxusercontent.com)|162.125.4.15|:443... connected.\n",
      "HTTP request sent, awaiting response... 302 Found\n",
      "Location: /cd/0/inline2/CNMQuE2sCs5gArFZWfcvs3ey5goe5sA7jK-egNxDZE5VchPDr6mc29bEh06Cj8gW1M_bvaBLcCe_G-Ul158F7nHbkMAj1tQNUvA95s9aPCdZ9sSUeRoaHmyBSs-wEIWfdJMPe_0qq8lrVUlb74zk7QzUVBeRpBxcWRSYl8THsGA_KtK3Cb6K62qyYsDVVxJ4U8DtVaunvfPyjV5V-Vi-nsr-8GndfFWz0Y9HbeQEpdcFvduEKbWrLHMfiYGMrROVQuqOpP-DBTr5cThhg6dzEsgY2szC5uJgJ-MIQaOmZQRiyYUamLsDXQgkFWt-N_9EbmFdZUQGqla-6tQs1GEJillM0wepZAWJ81YY6_SFRmPcslFu1urge0Fqa3AR_8x3Cmw/file [following]\n",
      "--2024-02-13 03:34:06--  https://uc824adc7edb44b0391df79e5897.dl.dropboxusercontent.com/cd/0/inline2/CNMQuE2sCs5gArFZWfcvs3ey5goe5sA7jK-egNxDZE5VchPDr6mc29bEh06Cj8gW1M_bvaBLcCe_G-Ul158F7nHbkMAj1tQNUvA95s9aPCdZ9sSUeRoaHmyBSs-wEIWfdJMPe_0qq8lrVUlb74zk7QzUVBeRpBxcWRSYl8THsGA_KtK3Cb6K62qyYsDVVxJ4U8DtVaunvfPyjV5V-Vi-nsr-8GndfFWz0Y9HbeQEpdcFvduEKbWrLHMfiYGMrROVQuqOpP-DBTr5cThhg6dzEsgY2szC5uJgJ-MIQaOmZQRiyYUamLsDXQgkFWt-N_9EbmFdZUQGqla-6tQs1GEJillM0wepZAWJ81YY6_SFRmPcslFu1urge0Fqa3AR_8x3Cmw/file\n",
      "Reusing existing connection to uc824adc7edb44b0391df79e5897.dl.dropboxusercontent.com:443.\n",
      "HTTP request sent, awaiting response... 200 OK\n",
      "Length: 829481276 (791M) [application/octet-stream]\n",
      "Saving to: ‘out/imagenet_attributions.pt’\n",
      "\n",
      "out/imagenet_attrib 100%[===================>] 791.05M  81.0MB/s    in 7.3s    \n",
      "\n",
      "2024-02-13 03:34:14 (109 MB/s) - ‘out/imagenet_attributions.pt’ saved [829481276/829481276]\n",
      "\n",
      "--2024-02-13 03:34:15--  https://www.dropbox.com/scl/fi/ovztah82lk6qav1bkhpn3/imagenet_val.beton?rlkey=eroq5kcusbwdfecxk0xscnu3n&dl=0\n",
      "Resolving www.dropbox.com (www.dropbox.com)... 162.125.4.18, 2620:100:6019:18::a27d:412\n",
      "Connecting to www.dropbox.com (www.dropbox.com)|162.125.4.18|:443... connected.\n",
      "HTTP request sent, awaiting response... 302 Found\n",
      "Location: https://uc6b3bd69299287ea8770fbecf63.dl.dropboxusercontent.com/cd/0/inline/CNNtAGSXVG9y-jsLyc5dWJ1ZiLXJhZDRIawIQ1gs4EwHB8BQqXTLVqEg4YMP60jxz8wX_Cj1ND3mM6hFYFpbdBBWyMFL0b4SpivET3PNblTgepXTrzOKsf0JEC9biXltxhW4ZWxScYYJM1FujTD96lLM/file# [following]\n",
      "--2024-02-13 03:34:16--  https://uc6b3bd69299287ea8770fbecf63.dl.dropboxusercontent.com/cd/0/inline/CNNtAGSXVG9y-jsLyc5dWJ1ZiLXJhZDRIawIQ1gs4EwHB8BQqXTLVqEg4YMP60jxz8wX_Cj1ND3mM6hFYFpbdBBWyMFL0b4SpivET3PNblTgepXTrzOKsf0JEC9biXltxhW4ZWxScYYJM1FujTD96lLM/file\n",
      "Resolving uc6b3bd69299287ea8770fbecf63.dl.dropboxusercontent.com (uc6b3bd69299287ea8770fbecf63.dl.dropboxusercontent.com)... 162.125.4.15, 2620:100:6019:15::a27d:40f\n",
      "Connecting to uc6b3bd69299287ea8770fbecf63.dl.dropboxusercontent.com (uc6b3bd69299287ea8770fbecf63.dl.dropboxusercontent.com)|162.125.4.15|:443... connected.\n",
      "HTTP request sent, awaiting response... 302 Found\n",
      "Location: /cd/0/inline2/CNONUTpVtexW1OzfQfOTdHo_7mL-cc2pzAXmjBSjoQi_eYy7O3AJGtD0-aejoI1YqbxbB0e9jI97zDYqaZpLMiwOiIPI61xLqh0xebtkC5RcRLu1S-rMjnXEXxSHYLhtCDebankAQT7T39V4ilIB8e84bxv8jGHXK-nIIoSEljM65MrPBCZsAhmOGOpLkRw2EdwsPgieOiO8gPabXkPBFcfy-R0qBCCzPuON838ArILNFG9NVjtJ19FVXfFRbbZJ_Y7O739MyH1OXN5djM36Dcdg8QmBL_CAFcNTZZ8IX9EA-mxunJbHfpM1mPPWE49eBpcplYNE2zAQskz-kKiS1OK740UjYXGhuY-OjDX2Ds58DnIuyJfdBxsoNSgKg0KzKew/file [following]\n",
      "--2024-02-13 03:34:16--  https://uc6b3bd69299287ea8770fbecf63.dl.dropboxusercontent.com/cd/0/inline2/CNONUTpVtexW1OzfQfOTdHo_7mL-cc2pzAXmjBSjoQi_eYy7O3AJGtD0-aejoI1YqbxbB0e9jI97zDYqaZpLMiwOiIPI61xLqh0xebtkC5RcRLu1S-rMjnXEXxSHYLhtCDebankAQT7T39V4ilIB8e84bxv8jGHXK-nIIoSEljM65MrPBCZsAhmOGOpLkRw2EdwsPgieOiO8gPabXkPBFcfy-R0qBCCzPuON838ArILNFG9NVjtJ19FVXfFRbbZJ_Y7O739MyH1OXN5djM36Dcdg8QmBL_CAFcNTZZ8IX9EA-mxunJbHfpM1mPPWE49eBpcplYNE2zAQskz-kKiS1OK740UjYXGhuY-OjDX2Ds58DnIuyJfdBxsoNSgKg0KzKew/file\n",
      "Reusing existing connection to uc6b3bd69299287ea8770fbecf63.dl.dropboxusercontent.com:443.\n",
      "HTTP request sent, awaiting response... 200 OK\n",
      "Length: 11820748672 (11G) [application/octet-stream]\n",
      "Saving to: ‘out/imagenet_val.beton’\n",
      "\n",
      "out/imagenet_val.be 100%[===================>]  11.01G  77.7MB/s    in 3m 4s   \n",
      "\n",
      "2024-02-13 03:37:21 (61.2 MB/s) - ‘out/imagenet_val.beton’ saved [11820748672/11820748672]\n",
      "\n"
     ]
    }
   ],
   "source": [
    "# size ~ 13 GB \n",
    "# attributions\n",
    "!wget 'https://www.dropbox.com/scl/fi/lm4hnvz4la8g9cg7ex9gp/imagenet_vit.pt?rlkey=6jz2rrrug1rw0zfdddeetooxo&dl=0' -O out/imagenet_attributions.pt\n",
    "# dataloader in ffcv .beton format\n",
    "!wget 'https://www.dropbox.com/scl/fi/ovztah82lk6qav1bkhpn3/imagenet_val.beton?rlkey=eroq5kcusbwdfecxk0xscnu3n&dl=0' -O out/imagenet_val.beton"
   ]
  },
  {
   "cell_type": "markdown",
   "id": "2b1ffffa-360b-44f6-a883-747acc299605",
   "metadata": {},
   "source": [
    "### Evaluate "
   ]
  },
  {
   "cell_type": "code",
   "execution_count": 5,
   "id": "63724b3c-8bf0-40c0-92d6-282d25ca8d0e",
   "metadata": {
    "tags": []
   },
   "outputs": [],
   "source": [
    "DEVICE = torch.device(0) \n",
    "\n",
    "def get_model():\n",
    "    weights = torchvision.models.vision_transformer.ViT_B_16_Weights.IMAGENET1K_V1\n",
    "    model = torchvision.models.vit_b_16(weights=weights).eval()\n",
    "    return model\n",
    "\n",
    "def get_attributions():\n",
    "    A = torch.load('out/imagenet_attributions.pt')\n",
    "    A = A['weight'].T.float()\n",
    "    return A\n",
    "\n",
    "def get_loader(batch_size=128, num_workers=2):\n",
    "    pipeline  = ffcv_pipelines.get_pipelines('imagenet', 'val', 'cuda')\n",
    "    indices = np.arange(0, 50_000, 10)\n",
    "    loader = data_utils.get_ffcv_loader('out/imagenet_val.beton', batch_size, num_workers, pipeline, is_train=False, indices=indices)\n",
    "    return loader\n",
    "\n",
    "def get_model_components(model):\n",
    "    mod_comps = {}\n",
    "\n",
    "    for comp_name, comp in model.named_modules():\n",
    "        if comp_name.startswith('heads'):\n",
    "            continue\n",
    "        if isinstance(comp, nn.Linear):\n",
    "            mod_comps[f'{comp_name}.weight'] = comp.weight.shape[0]\n",
    "        elif isinstance(comp, nn.MultiheadAttention):\n",
    "            mod_comps[f'{comp_name}.in_proj_weight'] = comp.in_proj_weight.shape[0]\n",
    "\n",
    "    return mod_comps"
   ]
  },
  {
   "cell_type": "code",
   "execution_count": 8,
   "id": "1419a4b4-6ea5-4300-aaeb-5ad451223a3e",
   "metadata": {
    "tags": []
   },
   "outputs": [],
   "source": [
    "model = get_model()\n",
    "comps = get_model_components(model)\n",
    "mask_model_wrapper = functools.partial(get_masked_model, comp_dims=comps)\n",
    "\n",
    "attb = get_attributions()\n",
    "loader = get_loader() \n",
    "\n",
    "coar_eval = EvaluateCoar(attb, get_model, mask_model_wrapper, loader, attb.shape[1], DEVICE)"
   ]
  },
  {
   "cell_type": "code",
   "execution_count": 9,
   "id": "2afde2c9-4335-443a-82b1-866300e0ce7b",
   "metadata": {
    "tags": []
   },
   "outputs": [
    {
     "name": "stderr",
     "output_type": "stream",
     "text": [
      "100%|███████████████████████████████████████████████████████████████████████████████| 100/100 [04:09<00:00,  2.49s/it]\n",
      "100%|███████████████████████████████████████████████████████████████████████████████| 100/100 [04:13<00:00,  2.53s/it]\n",
      "100%|███████████████████████████████████████████████████████████████████████████████| 100/100 [04:14<00:00,  2.55s/it]\n"
     ]
    }
   ],
   "source": [
    "mask_probs = [0.1, 0.05, 0.025]\n",
    "num_runs = 100 \n",
    "cor_df = coar_eval.get_correlation_dataframe(mask_probs, num_runs, use_tqdm=True)"
   ]
  },
  {
   "cell_type": "code",
   "execution_count": 10,
   "id": "3671c910-f189-49b4-83aa-a90248703837",
   "metadata": {
    "tags": []
   },
   "outputs": [
    {
     "data": {
      "text/plain": [
       "<seaborn.axisgrid.FacetGrid at 0x7f77e2780fa0>"
      ]
     },
     "execution_count": 10,
     "metadata": {},
     "output_type": "execute_result"
    },
    {
     "data": {
      "image/png": "[encoded data removed]",
      "text/plain": [
       "<Figure size 511.111x500 with 1 Axes>"
      ]
     },
     "metadata": {},
     "output_type": "display_data"
    }
   ],
   "source": [
    "sns.catplot(data=cor_df, x='Subsampling fraction', y='Model output correlation', kind='bar')"
   ]
  },
  {
   "cell_type": "code",
   "execution_count": null,
   "id": "d2252b42-4490-474a-b6bd-7b9e12c6c708",
   "metadata": {},
   "outputs": [],
   "source": []
  }
 ],
 "metadata": {
  "kernelspec": {
   "display_name": "Python 3 (ipykernel)",
   "language": "python",
   "name": "python3"
  },
  "language_info": {
   "codemirror_mode": {
    "name": "ipython",
    "version": 3
   },
   "file_extension": ".py",
   "mimetype": "text/x-python",
   "name": "python",
   "nbconvert_exporter": "python",
   "pygments_lexer": "ipython3",
   "version": "3.10.9"
  }
 },
 "nbformat": 4,
 "nbformat_minor": 5
}
